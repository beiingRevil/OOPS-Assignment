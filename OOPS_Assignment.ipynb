{
  "nbformat": 4,
  "nbformat_minor": 0,
  "metadata": {
    "colab": {
      "provenance": []
    },
    "kernelspec": {
      "name": "python3",
      "display_name": "Python 3"
    },
    "language_info": {
      "name": "python"
    }
  },
  "cells": [
    {
      "cell_type": "markdown",
      "source": [
        "Q1. What is Object-Oriented Programming (OOP)?\n",
        "\n",
        "Ans.OOP is a programming paradigm that organizes software design around objects rather than functions and logic. Objects represent real-world entities with attributes (data) and behaviors (methods). OOP principles include:\n",
        "\n",
        "Encapsulation: Data hiding through access control.\n",
        "\n",
        "Abstraction: Hiding complex implementation details.\n",
        "\n",
        "Inheritance: Reusing code through parent-child relationships.\n",
        "\n",
        "Polymorphism: Different classes can use the same interface.\n"
      ],
      "metadata": {
        "id": "_ggs_1yGvXZL"
      }
    },
    {
      "cell_type": "markdown",
      "source": [
        "Q2. What is a class in OOP?\n",
        "\n",
        "Ans.A class is a blueprint for creating objects. It defines attributes (variables) and methods (functions) that describe the behavior of the objects. Example in Python:\n",
        "\n",
        "class Car:\n",
        "    def _init_(self, brand, model):\n",
        "        self.brand = brand\n",
        "        self.model = model\n"
      ],
      "metadata": {
        "id": "ByOqUob7vWne"
      }
    },
    {
      "cell_type": "markdown",
      "source": [
        "Q3. What is an object in OOP?\n",
        "\n",
        "Ams.An object is an instance of a class. It holds specific values for the attributes defined in the class. Example:\n",
        "\n",
        "car1 = Car(\"Toyota\", \"Camry\")\n"
      ],
      "metadata": {
        "id": "4mFZ0E-1vWkO"
      }
    },
    {
      "cell_type": "markdown",
      "source": [],
      "metadata": {
        "id": "ILiyIXT_vWdN"
      }
    },
    {
      "cell_type": "markdown",
      "source": [
        "Q4. What is the difference between abstraction and encapsulation?\n",
        "\n",
        "Ans.Abstraction: Hides implementation details and exposes only essential features. Achieved using abstract classes and interfaces.\n",
        "\n",
        "Encapsulation: Restricts direct access to data by using private or protected attributes.\n",
        "\n",
        "\n",
        "Example of Encapsulation:\n",
        "\n",
        "class BankAccount:\n",
        "    def _init_(self, balance):\n",
        "        self.__balance = balance  # Private attribute\n"
      ],
      "metadata": {
        "id": "saeENU1owMOw"
      }
    },
    {
      "cell_type": "markdown",
      "source": [
        "Q5. What are dunder methods in Python?\n",
        "\n",
        "Ans.Dunder (double underscore) methods, also called magic methods, are special methods in Python that allow custom behavior for built-in operations. Examples include:\n",
        "\n",
        "_init_: Constructor\n",
        "\n",
        "_str_: String representation\n",
        "\n",
        "_add_: Operator overloading\n",
        "\n",
        "\n",
        "Example:\n",
        "\n",
        "class Vector:\n",
        "    def _add_(self, other):\n",
        "        return Vector(self.x + other.x, self.y + other.y)\n"
      ],
      "metadata": {
        "id": "sgCmmyJ5wMLN"
      }
    },
    {
      "cell_type": "markdown",
      "source": [
        "Q6. Explain the concept of inheritance in OOP.\n",
        "\n",
        "Ans.Inheritance allows a class to derive properties and behaviors from another class.\n",
        "Example:\n",
        "\n",
        "class Animal:\n",
        "    def speak(self):\n",
        "        return \"Generic sound\"\n",
        "\n",
        "class Dog(Animal):\n",
        "    def speak(self):\n",
        "        return \"Bark!\"\n"
      ],
      "metadata": {
        "id": "ysQ2F7RxwMIR"
      }
    },
    {
      "cell_type": "markdown",
      "source": [
        "Q7. What is polymorphism in OOP?\n",
        "\n",
        "Ans.Polymorphism enables the same method to be used by different objects, enhancing code flexibility.\n",
        "Example:\n",
        "\n",
        "class Bird:\n",
        "    def speak(self):\n",
        "        return \"Chirp\"\n",
        "\n",
        "class Dog:\n",
        "    def speak(self):\n",
        "        return \"Bark\"\n",
        "\n",
        "animals = [Bird(), Dog()]\n",
        "for animal in animals:\n",
        "    print(animal.speak())  # Different behaviors, same method\n"
      ],
      "metadata": {
        "id": "VklvGp5_wMFn"
      }
    },
    {
      "cell_type": "markdown",
      "source": [
        "Q8. How is encapsulation achieved in Python?\n",
        "\n",
        "Ans.Encapsulation is achieved by using private (__var) and protected (_var) attributes to restrict direct access.\n",
        "Example:\n",
        "\n",
        "class Account:\n",
        "    def _init_(self, balance):\n",
        "        self.__balance = balance  # Private variable\n"
      ],
      "metadata": {
        "id": "gC6h8aizwMCh"
      }
    },
    {
      "cell_type": "markdown",
      "source": [
        "Q9. What is a constructor in Python?\n",
        "\n",
        "Ans.A constructor (_init_ method) initializes object attributes when an object is created.\n",
        "Example:\n",
        "\n",
        "class Car:\n",
        "    def _init_(self, brand, model):\n",
        "        self.brand = brand\n",
        "        self.model = model"
      ],
      "metadata": {
        "id": "zchhkSQlwL-n"
      }
    },
    {
      "cell_type": "markdown",
      "source": [
        "Q10. What are class and static methods in Python?\n",
        "\n",
        "Ans.Class methods (@classmethod): Operate on class-level data.\n",
        "\n",
        "Static methods (@staticmethod): Utility functions that don’t modify class attributes.\n",
        "\n",
        "\n",
        "Example:\n",
        "\n",
        "class MathOperations:\n",
        "    @classmethod\n",
        "    def add(cls, a, b):\n",
        "        return a + b\n",
        "\n",
        "    @staticmethod\n",
        "    def subtract(a, b):\n",
        "        return a - b\n"
      ],
      "metadata": {
        "id": "kEukK3rowL7u"
      }
    },
    {
      "cell_type": "markdown",
      "source": [
        "Q11. What is method overloading in Python?\n",
        "\n",
        "Ans.Python does not support method overloading like Java, but it can be achieved using default arguments or *args.\n",
        "Example:\n",
        "\n",
        "class Math:\n",
        "    def add(self, a, b, c=0):\n",
        "        return a + b + c\n",
        "\n"
      ],
      "metadata": {
        "id": "WxoiEbP2wL36"
      }
    },
    {
      "cell_type": "markdown",
      "source": [
        "Q12. What is method overriding in OOP?\n",
        "\n",
        "Ans.When a subclass provides a specific implementation of a method already defined in its parent class.\n",
        "Example:\n",
        "\n",
        "class Parent:\n",
        "    def show(self):\n",
        "        return \"Parent\"\n",
        "\n",
        "class Child(Parent):\n",
        "    def show(self):\n",
        "        return \"Child\"\n"
      ],
      "metadata": {
        "id": "1Ayl4luLwLyZ"
      }
    },
    {
      "cell_type": "markdown",
      "source": [
        "Q13. What is a property decorator in Python?\n",
        "\n",
        "Ans.The @property decorator makes a method act like a read-only attribute.\n",
        "Example:\n",
        "\n",
        "class Circle:\n",
        "    def _init_(self, radius):\n",
        "        self._radius = radius\n",
        "\n",
        "    @property\n",
        "    def area(self):\n",
        "        return 3.14 * self._radius ** 2\n"
      ],
      "metadata": {
        "id": "dDWXvEjgwLvE"
      }
    },
    {
      "cell_type": "markdown",
      "source": [],
      "metadata": {
        "id": "hXgLd-_RvWXE"
      }
    },
    {
      "cell_type": "markdown",
      "source": [
        "Q14. Why is polymorphism important in OOP?\n",
        "\n",
        "Ans.Polymorphism promotes flexibility and reusability by allowing multiple types to use the same interface.\n"
      ],
      "metadata": {
        "id": "FJvBrRQ_xte7"
      }
    },
    {
      "cell_type": "markdown",
      "source": [
        "Q15. What is an abstract class in Python?\n",
        "\n",
        "Ans.An abstract class contains one or more abstract methods that must be implemented by subclasses.\n",
        "Example:\n",
        "\n",
        "from abc import ABC, abstractmethod\n",
        "\n",
        "class Shape(ABC):\n",
        "    @abstractmethod\n",
        "    def area(self):\n",
        "        pass\n"
      ],
      "metadata": {
        "id": "Gnss8hitxtbk"
      }
    },
    {
      "cell_type": "markdown",
      "source": [
        "Q16. What are the advantages of OOP?\n",
        "\n",
        "Ans.\n",
        "\n",
        "Code reusability\n",
        "\n",
        "Modularity\n",
        "\n",
        "Scalability\n",
        "\n",
        "Security through encapsulation\n"
      ],
      "metadata": {
        "id": "2KsUUABUxtVz"
      }
    },
    {
      "cell_type": "markdown",
      "source": [
        "Q17. What is the difference between a class variable and an instance variable?\n",
        "\n",
        "Ans.Class variable: Shared among all instances.\n",
        "\n",
        "Instance variable: Unique to each object.\n",
        "\n",
        "\n",
        "Example:\n",
        "\n",
        "class Car:\n",
        "    wheels = 4  # Class variable\n",
        "\n",
        "    def _init_(self, brand):\n",
        "        self.brand = brand  # Instance variable\n"
      ],
      "metadata": {
        "id": "OnuN_TnqxsBB"
      }
    },
    {
      "cell_type": "markdown",
      "source": [],
      "metadata": {
        "id": "KRJBPcf4xr9Y"
      }
    },
    {
      "cell_type": "markdown",
      "source": [
        "Q18. What is multiple inheritance in Python?\n",
        "\n",
        "Ans.A class can inherit from multiple parent classes.\n",
        "Example:\n",
        "\n",
        "class A:\n",
        "    pass\n",
        "\n",
        "class B:\n",
        "    pass\n",
        "\n",
        "class C(A, B):\n",
        "    pass\n"
      ],
      "metadata": {
        "id": "WgJtYhOPyPMV"
      }
    },
    {
      "cell_type": "markdown",
      "source": [
        "Q19. Explain the purpose of _str_ and _repr_ methods.\n",
        "\n",
        "\n",
        "Ans.\n",
        "_str_: User-friendly string representation.\n",
        "\n",
        "_repr_: Unambiguous string representation for debugging.\n",
        "\n",
        "\n",
        "Example:\n",
        "\n",
        "class Person:\n",
        "    def _str_(self):\n",
        "        return \"Person Object\"\n",
        "\n",
        "    def _repr_(self):\n",
        "        return \"Person()\"\n"
      ],
      "metadata": {
        "id": "XgV8clt9yPI6"
      }
    },
    {
      "cell_type": "markdown",
      "source": [
        "Q20. What is the significance of super() function in Python?\n",
        "\n",
        "Ans.\n",
        "It allows a subclass to access methods of its parent class.\n",
        "Example:\n",
        "\n",
        "class Parent:\n",
        "    def show(self):\n",
        "        return \"Parent\"\n",
        "\n",
        "class Child(Parent):\n",
        "    def show(self):\n",
        "        return super().show() + \" & Child\"\n"
      ],
      "metadata": {
        "id": "gKnLOAhYyPFf"
      }
    },
    {
      "cell_type": "markdown",
      "source": [
        "Q21. What is the significance of _del_ method?\n",
        "\n",
        "Ans.\n",
        "_del_ is a destructor method called when an object is deleted.\n",
        "Example:\n",
        "\n",
        "class Test:\n",
        "    def _del_(self):\n",
        "        print(\"Object deleted\")\n"
      ],
      "metadata": {
        "id": "mTPxFqJmxr6C"
      }
    },
    {
      "cell_type": "markdown",
      "source": [
        "Q22. What is the difference between @staticmethod and @classmethod?\n",
        "\n",
        "Ans.\n",
        "\n",
        "@staticmethod: No access to class attributes.\n",
        "\n",
        "@classmethod: Can modify class variables.\n"
      ],
      "metadata": {
        "id": "rzr_8Jg-vWRY"
      }
    },
    {
      "cell_type": "markdown",
      "source": [],
      "metadata": {
        "id": "g8NofHU1vV8u"
      }
    },
    {
      "cell_type": "markdown",
      "source": [
        "Q23. How does polymorphism work with inheritance?\n",
        "\n",
        "Ans.\n",
        "A subclass can override a method, allowing different behaviors for the same method in different classes.\n"
      ],
      "metadata": {
        "id": "buDUHnznzKcP"
      }
    },
    {
      "cell_type": "markdown",
      "source": [
        "Q24. What is method chaining in Python OOP?\n",
        "\n",
        "Ans.\n",
        "Calling multiple methods on the same object sequentially.\n",
        "Example:\n",
        "\n",
        "class Test:\n",
        "    def step1(self):\n",
        "        return self\n"
      ],
      "metadata": {
        "id": "3YFCKgKKzIqF"
      }
    },
    {
      "cell_type": "markdown",
      "source": [
        "Q25. What is the purpose of _call_ method?\n",
        "\n",
        "Ans.\n",
        "Allows an object to be called like a function.\n",
        "Example:\n",
        "\n",
        "class Callable:\n",
        "    def _call_(self):\n",
        "        print(\"Called!\")"
      ],
      "metadata": {
        "id": "stHgoJOozTGG"
      }
    },
    {
      "cell_type": "code",
      "source": [
        "#1. Create a parent class Animal with a method speak() that prints a generic message. Create a child class Dog that overrides the speak() method to print \"Bark!\".\n",
        "\n",
        "#Solution:\n",
        "\n",
        "class Animal:\n",
        "    def speak(self):\n",
        "        print(\"Animal makes a sound\")\n",
        "\n",
        "class Dog(Animal):\n",
        "    def speak(self):\n",
        "        print(\"Bark!\")\n",
        "\n",
        "# Testing\n",
        "a = Animal()\n",
        "a.speak()  # Output: Animal makes a sound\n",
        "\n",
        "d = Dog()\n",
        "d.speak()  # Output: Bark!\n"
      ],
      "metadata": {
        "colab": {
          "base_uri": "https://localhost:8080/"
        },
        "id": "x6ZE8EygzkL_",
        "outputId": "24d77f48-42d6-4e25-f4e1-ea497992bbf1"
      },
      "execution_count": 1,
      "outputs": [
        {
          "output_type": "stream",
          "name": "stdout",
          "text": [
            "Animal makes a sound\n",
            "Bark!\n"
          ]
        }
      ]
    },
    {
      "cell_type": "code",
      "source": [
        "#2. Write a program to create an abstract class Shape with a method area(). Derive classes Circle and Rectangle from it and implement the area() method in both.\n",
        "\n",
        "#Solution:\n",
        "\n",
        "from abc import ABC, abstractmethod\n",
        "\n",
        "class Shape(ABC):\n",
        "    @abstractmethod\n",
        "    def area(self):\n",
        "        pass\n",
        "\n",
        "class Circle(Shape):\n",
        "    def __init__(self, radius): # Changed _init_ to __init__\n",
        "        self.radius = radius\n",
        "\n",
        "    def area(self):\n",
        "        return 3.14 * self.radius ** 2\n",
        "class Rectangle(Shape):\n",
        "    def __init__(self, length, width): # Changed _init_ to __init__\n",
        "        self.length = length\n",
        "        self.width = width\n",
        "\n",
        "    def area(self):\n",
        "        return self.length * self.width\n",
        "\n",
        "# Testing\n",
        "c = Circle(5)\n",
        "print(\"Circle Area:\", c.area())  # Output: 78.5\n",
        "\n",
        "r = Rectangle(4, 6)\n",
        "print(\"Rectangle Area:\", r.area())  # Output: 24"
      ],
      "metadata": {
        "colab": {
          "base_uri": "https://localhost:8080/"
        },
        "id": "sb93LieWBpIZ",
        "outputId": "fddfad34-1bd9-4ac0-cf22-bc98d73629c6"
      },
      "execution_count": 4,
      "outputs": [
        {
          "output_type": "stream",
          "name": "stdout",
          "text": [
            "Circle Area: 78.5\n",
            "Rectangle Area: 24\n"
          ]
        }
      ]
    },
    {
      "cell_type": "code",
      "source": [
        "#3. Implement a multi-level inheritance scenario where a class Vehicle has an attribute type. Derive a class Car and further derive a class ElectricCar that adds a battery attribute.\n",
        "\n",
        "#Solution:\n",
        "\n",
        "class Vehicle:\n",
        "    def __init__(self, type):  # Changed _init_ to __init__\n",
        "        self.type = type\n",
        "\n",
        "class Car(Vehicle):\n",
        "    def __init__(self, type, brand):  # Changed _init_ to __init__\n",
        "        super().__init__(type)\n",
        "        self.brand = brand\n",
        "\n",
        "class ElectricCar(Car):\n",
        "    def __init__(self, type, brand, battery):  # Changed _init_ to __init__\n",
        "        super().__init__(type, brand)\n",
        "        self.battery = battery\n",
        "\n",
        "# Testing\n",
        "ecar = ElectricCar(\"Four Wheeler\", \"Tesla\", \"100 kWh\")\n",
        "print(ecar.type, ecar.brand, ecar.battery)\n",
        "# Output: Four Wheeler Tesla 100 kWh\n",
        "\n"
      ],
      "metadata": {
        "colab": {
          "base_uri": "https://localhost:8080/"
        },
        "id": "XJo0SYx-CMFl",
        "outputId": "ba552caa-8af8-4b1e-8f42-64c6c026def8"
      },
      "execution_count": 7,
      "outputs": [
        {
          "output_type": "stream",
          "name": "stdout",
          "text": [
            "Four Wheeler Tesla 100 kWh\n"
          ]
        }
      ]
    },
    {
      "cell_type": "code",
      "source": [
        "#4. Write a program to demonstrate encapsulation by creating a class BankAccount with private attributes balance and methods to deposit, withdraw, and check balance.\n",
        "\n",
        "#Solution:\n",
        "\n",
        "class BankAccount:\n",
        "    def __init__(self, initial_balance): # Changed _init_ to __init__\n",
        "        self.__balance = initial_balance  # Private attribute\n",
        "\n",
        "    def deposit(self, amount):\n",
        "        self.__balance += amount\n",
        "        print(f\"Deposited {amount}. New Balance: {self.__balance}\")\n",
        "\n",
        "    def withdraw(self, amount):\n",
        "        if amount > self.__balance:\n",
        "            print(\"Insufficient balance!\")\n",
        "        else:\n",
        "            self.__balance -= amount\n",
        "            print(f\"Withdrawn {amount}. New Balance: {self.__balance}\")\n",
        "\n",
        "    def check_balance(self):\n",
        "        print(f\"Balance: {self.__balance}\")\n",
        "\n",
        "# Testing\n",
        "acc = BankAccount(1000)\n",
        "acc.deposit(500)\n",
        "acc.withdraw(200)\n",
        "acc.check_balance()"
      ],
      "metadata": {
        "colab": {
          "base_uri": "https://localhost:8080/"
        },
        "id": "igwkoHu6C6YR",
        "outputId": "1ade43b9-0b83-43e1-fa1e-f874cb221868"
      },
      "execution_count": 10,
      "outputs": [
        {
          "output_type": "stream",
          "name": "stdout",
          "text": [
            "Deposited 500. New Balance: 1500\n",
            "Withdrawn 200. New Balance: 1300\n",
            "Balance: 1300\n"
          ]
        }
      ]
    },
    {
      "cell_type": "code",
      "source": [
        "#5. Demonstrate runtime polymorphism using a method play() in a base class Instrument. Derive classes Guitar and Piano that implement their own version of play().\n",
        "\n",
        "#Solution:\n",
        "class Instrument:\n",
        "    def play(self):\n",
        "        print(\"Instrument is playing\")\n",
        "\n",
        "class Guitar(Instrument):\n",
        "    def play(self):\n",
        "        print(\"Strumming Guitar!\")\n",
        "\n",
        "class Piano(Instrument):\n",
        "    def play(self):\n",
        "        print(\"Playing Piano!\")\n",
        "\n",
        "# Testing\n",
        "instruments = [Guitar(), Piano()]\n",
        "for instrument in instruments:\n",
        "    instrument.play()\n",
        "\n",
        "# Output:\n",
        "# Strumming Guitar!\n",
        "# Playing Piano!\n"
      ],
      "metadata": {
        "colab": {
          "base_uri": "https://localhost:8080/"
        },
        "id": "I8gf4WvADIYI",
        "outputId": "bd6bdfcf-acf8-4829-b4a4-a5b125323cbd"
      },
      "execution_count": 11,
      "outputs": [
        {
          "output_type": "stream",
          "name": "stdout",
          "text": [
            "Strumming Guitar!\n",
            "Playing Piano!\n"
          ]
        }
      ]
    },
    {
      "cell_type": "code",
      "source": [
        "#6. Create a class MathOperations with a class method add_numbers() to add two numbers and a static method subtract_numbers() to subtract two numbers.\n",
        "\n",
        "#Solution:\n",
        "\n",
        "class MathOperations:\n",
        "    @classmethod\n",
        "    def add_numbers(cls, a, b):\n",
        "        return a + b\n",
        "\n",
        "    @staticmethod\n",
        "    def subtract_numbers(a, b):\n",
        "        return a - b\n",
        "\n",
        "# Testing\n",
        "print(MathOperations.add_numbers(5, 3))  # Output: 8\n",
        "print(MathOperations.subtract_numbers(5, 3))  # Output: 2\n"
      ],
      "metadata": {
        "colab": {
          "base_uri": "https://localhost:8080/"
        },
        "id": "_F7rK8FLDKjm",
        "outputId": "919c7a8a-853a-4d4d-da74-dd5890ad8d39"
      },
      "execution_count": 12,
      "outputs": [
        {
          "output_type": "stream",
          "name": "stdout",
          "text": [
            "8\n",
            "2\n"
          ]
        }
      ]
    },
    {
      "cell_type": "code",
      "source": [
        "#7. Implement a class Person with a class method to count the total number of persons created.\n",
        "\n",
        "#Solution:\n",
        "class Person:\n",
        "    count = 0  # Class variable to track instances\n",
        "\n",
        "    def __init__(self, name):  # Changed _init_ to __init__\n",
        "        self.name = name\n",
        "        Person.count += 1  # Increment count when an instance is created\n",
        "\n",
        "    @classmethod\n",
        "    def total_persons(cls):\n",
        "        return cls.count\n",
        "\n",
        "# Testing\n",
        "p1 = Person(\"Alice\")\n",
        "p2 = Person(\"Bob\")\n",
        "print(Person.total_persons())  # Output: 2"
      ],
      "metadata": {
        "colab": {
          "base_uri": "https://localhost:8080/"
        },
        "id": "JbYky3pFDKgS",
        "outputId": "7fc34035-c3d0-4344-dc8e-2f4c7c0ceb3d"
      },
      "execution_count": 14,
      "outputs": [
        {
          "output_type": "stream",
          "name": "stdout",
          "text": [
            "2\n"
          ]
        }
      ]
    },
    {
      "cell_type": "code",
      "source": [
        "#8. Write a class Fraction with attributes numerator and denominator. Override the _str_ method to display the fraction as \"numerator/denominator\".\n",
        "\n",
        "#Solution:\n",
        "class Fraction:\n",
        "    def __init__(self, numerator, denominator):  # Changed _init_ to __init__\n",
        "        self.numerator = numerator\n",
        "        self.denominator = denominator\n",
        "\n",
        "    def __str__(self):  # Changed _str_ to __str__\n",
        "        return f\"{self.numerator}/{self.denominator}\"\n",
        "\n",
        "# Testing\n",
        "frac = Fraction(3, 4)\n",
        "print(frac)  # Output: 3/4"
      ],
      "metadata": {
        "colab": {
          "base_uri": "https://localhost:8080/"
        },
        "id": "B8dFBz1GDKcY",
        "outputId": "2e1d2a98-e256-4b5c-e127-d6e14b5a401d"
      },
      "execution_count": 16,
      "outputs": [
        {
          "output_type": "stream",
          "name": "stdout",
          "text": [
            "3/4\n"
          ]
        }
      ]
    },
    {
      "cell_type": "code",
      "source": [
        "#9. Demonstrate operator overloading by creating a class Vector and overriding the _add_ method to add two vectors.\n",
        "\n",
        "#Solution:\n",
        "class Vector:\n",
        "    def __init__(self, x, y):  # Changed _init_ to __init__\n",
        "        self.x = x\n",
        "        self.y = y\n",
        "\n",
        "    def __add__(self, other):  # Changed _add_ to __add__\n",
        "        return Vector(self.x + other.x, self.y + other.y)\n",
        "\n",
        "    def __str__(self):  # Changed _str_ to __str__\n",
        "        return f\"Vector({self.x}, {self.y})\"\n",
        "\n",
        "# Testing\n",
        "v1 = Vector(1, 2)\n",
        "v2 = Vector(3, 4)\n",
        "print(v1 + v2)  # Output: Vector(4, 6)"
      ],
      "metadata": {
        "colab": {
          "base_uri": "https://localhost:8080/"
        },
        "id": "uI7fqYoSEJZW",
        "outputId": "4494339a-1cef-4b47-a8bf-1722ff94fdc9"
      },
      "execution_count": 18,
      "outputs": [
        {
          "output_type": "stream",
          "name": "stdout",
          "text": [
            "Vector(4, 6)\n"
          ]
        }
      ]
    },
    {
      "cell_type": "code",
      "source": [
        "#10. Create a class Person with attributes name and age. Add a method greet() that prints \"Hello, my name is {name} and I am {age} years old.\"\n",
        "\n",
        "#Solution:\n",
        "class Person:\n",
        "    def __init__(self, name, age):  # Changed _init_ to __init__\n",
        "        self.name = name\n",
        "        self.age = age\n",
        "\n",
        "    def greet(self):\n",
        "        print(f\"Hello, my name is {self.name} and I am {self.age} years old.\")\n",
        "\n",
        "# Testing\n",
        "p = Person(\"Aarav\", 30)\n",
        "p.greet()"
      ],
      "metadata": {
        "colab": {
          "base_uri": "https://localhost:8080/"
        },
        "id": "d4vHWmB2EJVq",
        "outputId": "523b2aa5-2a69-47a9-b914-e5b701b112ca"
      },
      "execution_count": 20,
      "outputs": [
        {
          "output_type": "stream",
          "name": "stdout",
          "text": [
            "Hello, my name is Aarav and I am 30 years old.\n"
          ]
        }
      ]
    },
    {
      "cell_type": "code",
      "source": [
        "#11. Implement a class Student with attributes name and grades. Create a method average_grade() to compute the average of the grades.\n",
        "\n",
        "#Solution:\n",
        "class Student:\n",
        "    def __init__(self, name, grades): # Changed _init_ to __init__\n",
        "        self.name = name\n",
        "        self.grades = grades  # List of grades\n",
        "\n",
        "    def average_grade(self):\n",
        "        return sum(self.grades) / len(self.grades) if self.grades else 0\n",
        "\n",
        "# Testing\n",
        "s = Student(\"Aisha\", [85, 90, 78])\n",
        "print(f\"{s.name}'s Average Grade: {s.average_grade()}\")  # Output: 84.33"
      ],
      "metadata": {
        "colab": {
          "base_uri": "https://localhost:8080/"
        },
        "id": "XcJkksTVEJKS",
        "outputId": "932703f8-ef19-471e-9ed5-2fd69d9ca302"
      },
      "execution_count": 22,
      "outputs": [
        {
          "output_type": "stream",
          "name": "stdout",
          "text": [
            "Aisha's Average Grade: 84.33333333333333\n"
          ]
        }
      ]
    },
    {
      "cell_type": "code",
      "source": [
        "#12. Create a class Rectangle with methods set_dimensions() to set the dimensions and area() to calculate the area.\n",
        "\n",
        "#Solution:\n",
        "\n",
        "class Rectangle:\n",
        "    def _init_(self):\n",
        "        self.length = 0\n",
        "        self.width = 0\n",
        "\n",
        "    def set_dimensions(self, length, width):\n",
        "        self.length = length\n",
        "        self.width = width\n",
        "\n",
        "    def area(self):\n",
        "        return self.length * self.width\n",
        "\n",
        "# Testing\n",
        "rect = Rectangle()\n",
        "rect.set_dimensions(4, 5)\n",
        "print(\"Rectangle Area:\", rect.area())  # Output: 20\n"
      ],
      "metadata": {
        "colab": {
          "base_uri": "https://localhost:8080/"
        },
        "id": "0TglBd5PDKS7",
        "outputId": "d0126ff3-fcb6-4ebe-b756-37320ba88e64"
      },
      "execution_count": 23,
      "outputs": [
        {
          "output_type": "stream",
          "name": "stdout",
          "text": [
            "Rectangle Area: 20\n"
          ]
        }
      ]
    },
    {
      "cell_type": "code",
      "source": [
        "#13. Create a class Employee with a method calculate_salary() that computes the salary based on hours worked and hourly rate. Create a derived class Manager that adds a bonus to the salary.\n",
        "\n",
        "#Solution:\n",
        "class Employee:\n",
        "    def __init__(self, name, hours_worked, hourly_rate):\n",
        "        self.name = name\n",
        "        self.hours_worked = hours_worked\n",
        "        self.hourly_rate = hourly_rate\n",
        "\n",
        "    def calculate_salary(self):\n",
        "        return self.hours_worked * self.hourly_rate\n",
        "\n",
        "class Manager(Employee):\n",
        "    def __init__(self, name, hours_worked, hourly_rate, bonus):\n",
        "        super().__init__(name, hours_worked, hourly_rate)\n",
        "        self.bonus = bonus\n",
        "\n",
        "    def calculate_salary(self):\n",
        "        return super().calculate_salary() + self.bonus\n",
        "\n",
        "# Testing\n",
        "e = Employee(\"Rohan\", 40, 20)\n",
        "print(\"Employee Salary:\", e.calculate_salary())\n",
        "\n",
        "m = Manager(\"Aisha\", 40, 30, 500)\n",
        "print(\"Manager Salary:\", m.calculate_salary())"
      ],
      "metadata": {
        "colab": {
          "base_uri": "https://localhost:8080/"
        },
        "id": "CrGlpFwqDKPa",
        "outputId": "7f3f5a29-9b0e-4009-b05e-e2116e45572e"
      },
      "execution_count": 25,
      "outputs": [
        {
          "output_type": "stream",
          "name": "stdout",
          "text": [
            "Employee Salary: 800\n",
            "Manager Salary: 1700\n"
          ]
        }
      ]
    },
    {
      "cell_type": "code",
      "source": [
        "#14. Create a class Product with attributes name, price, and quantity. Implement a method total_price() that calculates the total price of the product.\n",
        "\n",
        "#Solution:\n",
        "class Product:\n",
        "    def __init__(self, name, price, quantity): # Changed _init_ to __init__\n",
        "        self.name = name\n",
        "        self.price = price\n",
        "        self.quantity = quantity\n",
        "\n",
        "    def total_price(self):\n",
        "        return self.price * self.quantity\n",
        "\n",
        "# Testing\n",
        "p = Product(\"Laptop\", 50000, 2)\n",
        "print(\"Total Price:\", p.total_price())  # Output: 100000"
      ],
      "metadata": {
        "colab": {
          "base_uri": "https://localhost:8080/"
        },
        "id": "5ZFHeYZOF5gR",
        "outputId": "d89f6d54-4236-49b4-fe92-5862a7ae403c"
      },
      "execution_count": 27,
      "outputs": [
        {
          "output_type": "stream",
          "name": "stdout",
          "text": [
            "Total Price: 100000\n"
          ]
        }
      ]
    },
    {
      "cell_type": "code",
      "source": [
        "#15. Create a class Animal with an abstract method sound(). Create two derived classes Cow and Sheep that implement the sound() method.\n",
        "\n",
        "#Solution:\n",
        "from abc import ABC, abstractmethod\n",
        "\n",
        "class Animal(ABC):\n",
        "    @abstractmethod\n",
        "    def sound(self):\n",
        "        pass\n",
        "\n",
        "class Cow(Animal):\n",
        "    def sound(self):\n",
        "        return \"Moo\"\n",
        "\n",
        "class Sheep(Animal):\n",
        "    def sound(self):\n",
        "        return \"Baa\"\n",
        "\n",
        "# Testing\n",
        "animals = [Cow(), Sheep()]\n",
        "for animal in animals:\n",
        "    print(animal.sound())\n",
        "\n",
        "# Output:\n",
        "# Moo\n",
        "# Baa\n",
        "\n"
      ],
      "metadata": {
        "colab": {
          "base_uri": "https://localhost:8080/"
        },
        "id": "FHJp41rhHKT6",
        "outputId": "3154279f-2877-4da0-bcb5-802ba3a21788"
      },
      "execution_count": 28,
      "outputs": [
        {
          "output_type": "stream",
          "name": "stdout",
          "text": [
            "Moo\n",
            "Baa\n"
          ]
        }
      ]
    },
    {
      "cell_type": "code",
      "source": [
        "#16. Create a class Book with attributes title, author, and year_published. Add a method get_book_info() that returns a formatted string with the book's details.\n",
        "\n",
        "#Solution:\n",
        "class Book:\n",
        "    def __init__(self, title, author, year_published): # Changed _init_ to __init__\n",
        "        self.title = title\n",
        "        self.author = author\n",
        "        self.year_published = year_published\n",
        "\n",
        "    def get_book_info(self):\n",
        "        return f\"{self.title} by {self.author}, published in {self.year_published}\"\n",
        "\n",
        "# Testing\n",
        "b = Book(\"The Alchemist\", \"Paulo Coelho\", 1988)\n",
        "print(b.get_book_info())  # Output: The Alchemist by Paulo Coelho, published in 1988"
      ],
      "metadata": {
        "colab": {
          "base_uri": "https://localhost:8080/"
        },
        "id": "-GlUarlDF5ce",
        "outputId": "a3c88a12-adbb-4a0a-bc3e-c3a0843f9569"
      },
      "execution_count": 30,
      "outputs": [
        {
          "output_type": "stream",
          "name": "stdout",
          "text": [
            "The Alchemist by Paulo Coelho, published in 1988\n"
          ]
        }
      ]
    },
    {
      "cell_type": "code",
      "source": [
        "#17. Create a class House with attributes address and price. Create a derived class Mansion that adds an attribute number_of_rooms.\n",
        "\n",
        "#Solution:\n",
        "class House:\n",
        "    def __init__(self, address, price): # Changed _init_ to __init__\n",
        "        self.address = address\n",
        "        self.price = price\n",
        "\n",
        "class Mansion(House):\n",
        "    def __init__(self, address, price, number_of_rooms): # Changed _init_ to __init__\n",
        "        super().__init__(address, price)\n",
        "        self.number_of_rooms = number_of_rooms\n",
        "\n",
        "# Testing\n",
        "m = Mansion(\"123 Luxury St\", 5000000, 10)\n",
        "print(m.address, m.price, m.number_of_rooms)\n",
        "\n",
        "# Output: 123 Luxury St 5000000 10"
      ],
      "metadata": {
        "colab": {
          "base_uri": "https://localhost:8080/"
        },
        "id": "EzLj0FcAF5Ov",
        "outputId": "2e299c81-e4fe-4061-d4d1-e05cf63a7781"
      },
      "execution_count": 32,
      "outputs": [
        {
          "output_type": "stream",
          "name": "stdout",
          "text": [
            "123 Luxury St 5000000 10\n"
          ]
        }
      ]
    },
    {
      "cell_type": "markdown",
      "source": [
        "Note:- I found out that Qno.3&4 were same so i just skipped the repetitive questions.\n",
        "  "
      ],
      "metadata": {
        "id": "JDQMl55rH_hZ"
      }
    },
    {
      "cell_type": "code",
      "source": [],
      "metadata": {
        "id": "TeDBxdKUF5Gd"
      },
      "execution_count": null,
      "outputs": []
    },
    {
      "cell_type": "code",
      "source": [],
      "metadata": {
        "id": "we0Js-EJF42I"
      },
      "execution_count": null,
      "outputs": []
    },
    {
      "cell_type": "code",
      "source": [],
      "metadata": {
        "id": "zpUFopgWF4w4"
      },
      "execution_count": null,
      "outputs": []
    },
    {
      "cell_type": "code",
      "source": [],
      "metadata": {
        "id": "eMubIT2qDKLe"
      },
      "execution_count": null,
      "outputs": []
    }
  ]
}